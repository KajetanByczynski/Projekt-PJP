{
 "cells": [
  {
   "cell_type": "code",
   "execution_count": 83,
   "metadata": {},
   "outputs": [
    {
     "data": {
      "text/plain": [
       "'polyfit'"
      ]
     },
     "execution_count": 83,
     "metadata": {},
     "output_type": "execute_result"
    }
   ],
   "source": [
    "#List:\n",
    "'polyint'\n",
    "'polyder'\n",
    "'polyadd'\n",
    "'polysub'\n",
    "'polymul' \n",
    "'polydiv'\n",
    "'polyval'\n",
    "'polyfit'"
   ]
  },
  {
   "cell_type": "code",
   "execution_count": 84,
   "metadata": {},
   "outputs": [
    {
     "name": "stdout",
     "output_type": "stream",
     "text": [
      "[0.  1.  2.5]\n"
     ]
    }
   ],
   "source": [
    "from numpy.polynomial import polynomial as P\n",
    "\n",
    "#1.polyint (Całkowanie)\n",
    "\n",
    "\n",
    "y=[1,5] # y=1+5x\n",
    "\n",
    "dydx=P.polyint(y,1,0) #(wielomian,\"krotność\" całki, stała C)\n",
    "\n",
    "print(dydx)"
   ]
  },
  {
   "cell_type": "code",
   "execution_count": 60,
   "metadata": {},
   "outputs": [
    {
     "name": "stdout",
     "output_type": "stream",
     "text": [
      "[0.  1.  2.5]\n"
     ]
    }
   ],
   "source": [
    "#2.polyder (Różniczkowanie)\n",
    "\n",
    "y2=P.polyder(dydx,1)\n",
    "print(y2)\n"
   ]
  },
  {
   "cell_type": "code",
   "execution_count": 65,
   "metadata": {},
   "outputs": [
    {
     "name": "stdout",
     "output_type": "stream",
     "text": [
      "[1, 5]\n",
      "[0.  1.  2.5]\n",
      "[1.  6.  2.5]\n"
     ]
    }
   ],
   "source": [
    "#3.polyadd (Dodawanie)\n",
    "\n",
    "suma=P.polyadd(y,y2)\n",
    "print(y)\n",
    "print(y2)\n",
    "print(suma)\n"
   ]
  },
  {
   "cell_type": "code",
   "execution_count": 64,
   "metadata": {},
   "outputs": [
    {
     "name": "stdout",
     "output_type": "stream",
     "text": [
      "[1. 5.]\n"
     ]
    }
   ],
   "source": [
    "#4.polysub (Tak, odejmowanie)\n",
    "\n",
    "różnica=P.polysub(suma,y2)\n",
    "print(różnica)"
   ]
  },
  {
   "cell_type": "code",
   "execution_count": 69,
   "metadata": {},
   "outputs": [
    {
     "name": "stdout",
     "output_type": "stream",
     "text": [
      "[1, 5] [ 1. 10. 25.]\n"
     ]
    }
   ],
   "source": [
    "#5.polymul (Mnożenie)\n",
    "\n",
    "mul=P.polymul(y,y)\n",
    "print(y,mul)"
   ]
  },
  {
   "cell_type": "code",
   "execution_count": 70,
   "metadata": {},
   "outputs": [
    {
     "name": "stdout",
     "output_type": "stream",
     "text": [
      "(array([1., 5.]), array([0.]))\n"
     ]
    }
   ],
   "source": [
    "#6.polydiv (Dzielenie)\n",
    "\n",
    "div=P.polydiv(mul,y)\n",
    "print(div) #Zwraca zarówno wynik dzielenia jak i resztę"
   ]
  },
  {
   "cell_type": "code",
   "execution_count": 74,
   "metadata": {},
   "outputs": [
    {
     "name": "stdout",
     "output_type": "stream",
     "text": [
      "[1, 5]\n",
      "26.0\n"
     ]
    }
   ],
   "source": [
    "#7.polyval (Wartość w punkcie)\n",
    "\n",
    "print(y)\n",
    "val5=P.polyval(5,y)\n",
    "print(val5)"
   ]
  },
  {
   "cell_type": "code",
   "execution_count": 80,
   "metadata": {},
   "outputs": [
    {
     "name": "stdout",
     "output_type": "stream",
     "text": [
      "[-9.52672279e-15  8.43223950e-15  1.00000000e+00]\n"
     ]
    }
   ],
   "source": [
    "#8.polyfit (Metoda najmniejszych kwadratów)\n",
    "\n",
    "fit=P.polyfit((1,2,3,4),(1,4,9,16),2) #Przybliżenie dla punktów P1[1,1]; P2[1,4]; P3[1,9] i P[1,16]\n",
    "print(fit)"
   ]
  },
  {
   "cell_type": "code",
   "execution_count": null,
   "metadata": {},
   "outputs": [],
   "source": []
  }
 ],
 "metadata": {
  "kernelspec": {
   "display_name": "Python 3",
   "language": "python",
   "name": "python3"
  },
  "language_info": {
   "codemirror_mode": {
    "name": "ipython",
    "version": 3
   },
   "file_extension": ".py",
   "mimetype": "text/x-python",
   "name": "python",
   "nbconvert_exporter": "python",
   "pygments_lexer": "ipython3",
   "version": "3.7.0"
  }
 },
 "nbformat": 4,
 "nbformat_minor": 2
}
