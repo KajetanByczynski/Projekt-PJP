{
 "cells": [
  {
   "cell_type": "code",
   "execution_count": 8,
   "metadata": {},
   "outputs": [
    {
     "name": "stdout",
     "output_type": "stream",
     "text": [
      "[ 1  2  3 -1  5]\n",
      "97.0\n"
     ]
    }
   ],
   "source": [
    "#import numpy as np\n",
    "#import numpy.ma as ma\n",
    "from numpy.polynomial import polynomial as P\n",
    "\n",
    "def unmasked(F):\n",
    "    p=[]\n",
    "    m=[]\n",
    "    for i in range(len(F)):\n",
    "        p.append(F.data[i])\n",
    "        m.append(F.mask[i])\n",
    "        if m[i]==True:\n",
    "            p[i]=0\n",
    "    return p\n",
    "\n",
    "def mpolyval(x,F):\n",
    "    p=unmasked(F)\n",
    "    z=P.polyval(x,p)\n",
    "    return z\n",
    "\n",
    "x = np.array([1, 2, 3, -1, 5])\n",
    "mx = ma.masked_array(x, mask=[0, 0, 0, 1, 0])\n",
    "print(mx.data)\n",
    "\n",
    "val=mpolyval(2,mx)\n",
    "print(val)"
   ]
  },
  {
   "cell_type": "code",
   "execution_count": 6,
   "metadata": {},
   "outputs": [
    {
     "data": {
      "text/plain": [
       "array([1, 2, 3, 0, 5])"
      ]
     },
     "execution_count": 6,
     "metadata": {},
     "output_type": "execute_result"
    }
   ],
   "source": [
    "# https://github.com/KajetanByczynski/numpy/blob/master/numpy/core/numeric.py\n",
    "from numpy.core import array\n",
    "def asarray(a, dtype=None, order=None):\n",
    "    if hasattr(a, 'mask'):\n",
    "        p=[]\n",
    "        m=[]\n",
    "        for i in range(len(a)):\n",
    "            p.append(a.data[i])\n",
    "            m.append(a.mask[i])\n",
    "            if m[i]==True:\n",
    "                p[i]=0\n",
    "    return array(p, dtype, copy=False, order=order)\n",
    "MX=asarray(mx)\n",
    "MX"
   ]
  },
  {
   "cell_type": "code",
   "execution_count": null,
   "metadata": {},
   "outputs": [],
   "source": []
  },
  {
   "cell_type": "code",
   "execution_count": null,
   "metadata": {},
   "outputs": [],
   "source": []
  }
 ],
 "metadata": {
  "kernelspec": {
   "display_name": "Python 3",
   "language": "python",
   "name": "python3"
  },
  "language_info": {
   "codemirror_mode": {
    "name": "ipython",
    "version": 3
   },
   "file_extension": ".py",
   "mimetype": "text/x-python",
   "name": "python",
   "nbconvert_exporter": "python",
   "pygments_lexer": "ipython3",
   "version": "3.7.0"
  }
 },
 "nbformat": 4,
 "nbformat_minor": 2
}
